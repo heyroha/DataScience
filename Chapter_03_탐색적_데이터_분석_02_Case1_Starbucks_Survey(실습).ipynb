{
  "cells": [
    {
      "cell_type": "markdown",
      "metadata": {
        "id": "view-in-github",
        "colab_type": "text"
      },
      "source": [
        "<a href=\"https://colab.research.google.com/github/heyroha/DataScience/blob/main/Chapter_03_%E1%84%90%E1%85%A1%E1%86%B7%E1%84%89%E1%85%A2%E1%86%A8%E1%84%8C%E1%85%A5%E1%86%A8_%E1%84%83%E1%85%A6%E1%84%8B%E1%85%B5%E1%84%90%E1%85%A5_%E1%84%87%E1%85%AE%E1%86%AB%E1%84%89%E1%85%A5%E1%86%A8_02_Case1_Starbucks_Survey(%E1%84%89%E1%85%B5%E1%86%AF%E1%84%89%E1%85%B3%E1%86%B8).ipynb\" target=\"_parent\"><img src=\"https://colab.research.google.com/assets/colab-badge.svg\" alt=\"Open In Colab\"/></a>"
      ]
    },
    {
      "cell_type": "markdown",
      "metadata": {
        "id": "FfxO1SQc1SWD"
      },
      "source": [
        "## 스타벅스 이벤트 관련 고객 설문 데이터\n",
        "\n",
        "- 스타벅스 고객들의 이벤트 관련 설문에 응답한 데이터의 일부입니다.\n",
        "\n",
        "\n",
        "- 해당 데이터에서 고객들이 이벤트에 대한 응답을 어떻게 하는지, 찾고 고객 프로모션 개선방안에 대한 인사이트를 찾습니다."
      ]
    },
    {
      "cell_type": "code",
      "source": [
        "from google.colab import drive\n",
        "drive.mount('/content/drive')"
      ],
      "metadata": {
        "id": "wDv3Qo4Ab8GT"
      },
      "execution_count": null,
      "outputs": []
    },
    {
      "cell_type": "markdown",
      "metadata": {
        "id": "D2zGtGCq1SWF"
      },
      "source": [
        "### 0. Data Description\n",
        "\n",
        "1. Profile table\n",
        "\n",
        "> profile 데이터는 설문에 참여한 스타벅스 회원에 관련된 정보가 담겨 있습니다.\n",
        "\n",
        "> \"Dimesional data about each person, including their age, salary, and gender. There is one unique customer for each record.\"\n",
        "\n",
        "\n",
        "2. transcript\n",
        "\n",
        "> 이벤트에 참여한 실제 유저들의 응답이 기록되어 있습니다.\n",
        "\n",
        "> \"Records show the different steps of promotional offers that a customer received. The different values of receiving a promotion are receiving, viewing, and completing. You also see the different transactions that a person made in the time since he became a customer. With all records, you see the day that they interacted with Starbucks and the amount that it is worth.\"\n",
        "\n",
        "\n",
        "3. portfoilo\n",
        "\n",
        "> 이벤트를 운영했던 내역에 관한 정보가 담겨 있습니다.\n",
        "\n",
        "> \"Information about the promotional offers that are possible to receive, and basic information about each one including the promotional type, duration of the promotion, reward, and how the promotion was distributed to customers.\""
      ]
    },
    {
      "cell_type": "markdown",
      "metadata": {
        "id": "PwfpgGHN1SWF"
      },
      "source": [
        "### 1. 라이브러리 및 데이터 로드\n",
        "\n",
        "- 분석에 필요한 데이터와, 라이브러리를 불러옵니다."
      ]
    },
    {
      "cell_type": "code",
      "execution_count": null,
      "metadata": {
        "id": "_UhYBTxs1SWF"
      },
      "outputs": [],
      "source": [
        "# 데이터 분석 필수 라이브러리 4종 세트 불러오기\n",
        "import numpy as np\n",
        "import pandas as pd\n",
        "import matplotlib.pyplot as plt\n",
        "import seaborn as sns"
      ]
    },
    {
      "cell_type": "code",
      "execution_count": null,
      "metadata": {
        "id": "HWxv85KIpHhO"
      },
      "outputs": [],
      "source": [
        "# Starbucks Customer Data 폴더안에 있는 데이터 3개를 불러오기\n",
        "base_path = \"/content/drive/MyDrive/Colab Notebooks/data/Starbucks Promotion\"\n",
        "\n",
        "transcript = pd.read_csv(base_path + \"/transcript.csv\").drop(columns = [\"Unnamed: 0\"])\n",
        "profile = pd.read_csv(base_path + \"/profile.csv\").drop(columns = [\"Unnamed: 0\"])\n",
        "portfolio = pd.read_csv(base_path + \"/portfolio.csv\").drop(columns=[\"Unnamed: 0\"])"
      ]
    },
    {
      "cell_type": "markdown",
      "metadata": {
        "id": "_LfoodaC1SWG"
      },
      "source": [
        "### 2. 데이터 전처리\n",
        "\n",
        "- 결측치가 존재하는 데이터를 찾아서, 결측치를 처리해줍니다."
      ]
    },
    {
      "cell_type": "code",
      "execution_count": null,
      "metadata": {
        "id": "HwRdWRAz1SWG"
      },
      "outputs": [],
      "source": [
        "# 각 데이터에 결측치가 있는지 확인합니다.\n",
        "portfolio.info()"
      ]
    },
    {
      "cell_type": "code",
      "execution_count": null,
      "metadata": {
        "id": "WcQApwe51SWG"
      },
      "outputs": [],
      "source": [
        "# 결측치를 포함하는 데이터들은 어떤 데이터들인지 확인합니다.\n",
        "transcript.info()\n",
        "profile.info()"
      ]
    },
    {
      "cell_type": "code",
      "execution_count": null,
      "metadata": {
        "id": "7SWKpINB1SWG"
      },
      "outputs": [],
      "source": [
        "# 결측치를 처리해줍니다. # 평균과 같은 통계량으로 채워주거나, 버립니다.\n"
      ]
    },
    {
      "cell_type": "markdown",
      "metadata": {
        "id": "jHNO6ypU1SWG"
      },
      "source": [
        "### 3. profile 데이터 분석\n",
        "\n",
        "- 설문에 참여한 사람 중, 정상적인 데이터로 판단된 데이터에 대한 분석을 수행합니다.\n",
        "\n",
        "\n",
        "- 각 column마다 원하는 통계량을 찾은 뒤, 해당 통계량을 멋지게 시각화해 줄 plot을 seaborn에서 가져와 구현합니다."
      ]
    },
    {
      "cell_type": "code",
      "execution_count": null,
      "metadata": {
        "id": "s5eF2Toi1SWG"
      },
      "outputs": [],
      "source": [
        "# profile의 became_member_on 데이터를 시간 정보로 변환해줍니다.\n",
        "profile.became_member_on = pd.to_datetime(profile.became_member_on.astype(str), format='%Y%m%d')\n",
        "profile.info()"
      ]
    },
    {
      "cell_type": "markdown",
      "metadata": {
        "id": "I_TDg8DM1SWG"
      },
      "source": [
        "#### 성별에 관한 분석"
      ]
    },
    {
      "cell_type": "code",
      "execution_count": null,
      "metadata": {
        "id": "_IE4Hjh21SWG"
      },
      "outputs": [],
      "source": []
    },
    {
      "cell_type": "markdown",
      "metadata": {
        "id": "wm8leCG61SWG"
      },
      "source": [
        "#### 나이에 대한 분석"
      ]
    },
    {
      "cell_type": "code",
      "execution_count": null,
      "metadata": {
        "id": "3NItH52D1SWG"
      },
      "outputs": [],
      "source": []
    },
    {
      "cell_type": "markdown",
      "metadata": {
        "id": "TTNYOCvk1SWG"
      },
      "source": [
        "#### 회원이 된 날짜에 대한 분석"
      ]
    },
    {
      "cell_type": "code",
      "execution_count": null,
      "metadata": {
        "id": "yLecJh8_1SWG"
      },
      "outputs": [],
      "source": []
    },
    {
      "cell_type": "markdown",
      "metadata": {
        "id": "t6u0HB1H1SWI"
      },
      "source": [
        "#### 수입에 대한 분석"
      ]
    },
    {
      "cell_type": "code",
      "execution_count": null,
      "metadata": {
        "id": "INKB6gPR1SWI"
      },
      "outputs": [],
      "source": []
    },
    {
      "cell_type": "markdown",
      "metadata": {
        "id": "D_twFPeR1SWI"
      },
      "source": [
        "#### profile 데이터에 대한 상관관계 분석"
      ]
    },
    {
      "cell_type": "code",
      "execution_count": null,
      "metadata": {
        "id": "EhbRORv71SWI"
      },
      "outputs": [],
      "source": []
    },
    {
      "cell_type": "markdown",
      "metadata": {
        "id": "PrvofNK51SWI"
      },
      "source": [
        "### 4. transcript에 대한 분석\n",
        "\n",
        "- 각 column마다 원하는 통계량을 찾은 뒤, 해당 통계량을 멋지게 시각화해 줄 plot을 seaborn에서 가져와 구현합니다.\n",
        "\n",
        "\n",
        "- `person`과 `values` column은 분석 대상에서 제외합니다.\n",
        "\n",
        "\n",
        "> values에 대한 패턴이 궁금하다면, 아래 코드를 참고해보세요 ! (배우지 않은 내용이 있어, 어려울 수 있습니다)"
      ]
    },
    {
      "cell_type": "markdown",
      "metadata": {
        "id": "fGYcSe331SWI"
      },
      "source": [
        "#### event에 대한 분석"
      ]
    },
    {
      "cell_type": "code",
      "execution_count": null,
      "metadata": {
        "id": "pWyO_D5r1SWI"
      },
      "outputs": [],
      "source": []
    },
    {
      "cell_type": "markdown",
      "metadata": {
        "id": "e2McGwFB1SWI"
      },
      "source": [
        "#### time에 대한 분석"
      ]
    },
    {
      "cell_type": "code",
      "execution_count": null,
      "metadata": {
        "id": "83BZHMhv1SWI"
      },
      "outputs": [],
      "source": []
    },
    {
      "cell_type": "markdown",
      "metadata": {
        "id": "aabPxpqA1SWI"
      },
      "source": [
        "#### (Advanced, optional) value에 대한 분석"
      ]
    },
    {
      "cell_type": "code",
      "execution_count": null,
      "metadata": {
        "id": "bj1IsP3r1SWI"
      },
      "outputs": [],
      "source": [
        "# str로 되어있는 데이터를 dictionary로 변환\n",
        "transcript.value = transcript.value.apply(lambda x:eval(x))\n",
        "transcript"
      ]
    },
    {
      "cell_type": "code",
      "execution_count": null,
      "metadata": {
        "id": "xVQgRC0W1SWI"
      },
      "outputs": [],
      "source": [
        "list(transcript.value[0].keys())[0]"
      ]
    },
    {
      "cell_type": "code",
      "execution_count": null,
      "metadata": {
        "id": "Wzk6FyhO1SWJ"
      },
      "outputs": [],
      "source": [
        "# event에 따른 value의 차이 확인\n",
        "transcript[\"value_key\"] = transcript.value.apply(lambda x:list(x.keys())[0])\n",
        "transcript[\"value_value\"] = transcript.value.apply(lambda x:list(x.values())[0])\n",
        "transcript"
      ]
    },
    {
      "cell_type": "code",
      "execution_count": null,
      "metadata": {
        "id": "uNx7JiOe1SWJ"
      },
      "outputs": [],
      "source": [
        "plt.figure(figsize=(8, 6))\n",
        "sns.countplot(data=transcript, x=\"value_key\")\n",
        "plt.show()"
      ]
    },
    {
      "cell_type": "code",
      "execution_count": null,
      "metadata": {
        "id": "EzahEx7g1SWJ"
      },
      "outputs": [],
      "source": [
        "transcript.value_value.value_counts()"
      ]
    },
    {
      "cell_type": "code",
      "execution_count": null,
      "metadata": {
        "id": "MdNUN6e41SWJ"
      },
      "outputs": [],
      "source": [
        "temp = transcript.loc[transcript.value_key != \"amount\", \"value_value\"]\n",
        "temp_df = pd.DataFrame({\"id\" : temp.values})\n",
        "temp_df"
      ]
    },
    {
      "cell_type": "code",
      "execution_count": null,
      "metadata": {
        "id": "lIzh5b5b1SWJ"
      },
      "outputs": [],
      "source": [
        "temp.value_counts()"
      ]
    },
    {
      "cell_type": "code",
      "execution_count": null,
      "metadata": {
        "id": "jv8vz-4A1SWJ"
      },
      "outputs": [],
      "source": [
        "temp_portfolio = pd.merge(temp_df, portfolio, how=\"left\", on=\"id\")\n",
        "temp_portfolio"
      ]
    },
    {
      "cell_type": "code",
      "execution_count": null,
      "metadata": {
        "id": "v4XBbCea1SWJ"
      },
      "outputs": [],
      "source": [
        "plt.figure(figsize=(12, 6))\n",
        "sns.countplot(data=temp_portfolio, x=\"channels\", palette=\"Set2\")\n",
        "plt.show()"
      ]
    },
    {
      "cell_type": "code",
      "execution_count": null,
      "metadata": {
        "id": "QGHf2WX81SWJ"
      },
      "outputs": [],
      "source": []
    }
  ],
  "metadata": {
    "colab": {
      "private_outputs": true,
      "provenance": [],
      "include_colab_link": true
    },
    "kernelspec": {
      "display_name": "Python 3 (ipykernel)",
      "language": "python",
      "name": "python3"
    },
    "language_info": {
      "codemirror_mode": {
        "name": "ipython",
        "version": 3
      },
      "file_extension": ".py",
      "mimetype": "text/x-python",
      "name": "python",
      "nbconvert_exporter": "python",
      "pygments_lexer": "ipython3",
      "version": "3.8.2"
    }
  },
  "nbformat": 4,
  "nbformat_minor": 0
}